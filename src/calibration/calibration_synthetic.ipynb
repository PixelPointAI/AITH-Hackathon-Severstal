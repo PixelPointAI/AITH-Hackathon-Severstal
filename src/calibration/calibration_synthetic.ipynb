{
 "cells": [
  {
   "cell_type": "markdown",
   "metadata": {},
   "source": [
    "# Калибровка"
   ]
  },
  {
   "cell_type": "code",
   "execution_count": null,
   "metadata": {},
   "outputs": [],
   "source": [
    "import cv2 as cv\n",
    "import numpy as np\n",
    "import matplotlib.pyplot as plt\n",
    "import glob\n",
    "import os\n",
    "import json\n",
    "import random\n",
    "from tqdm.notebook import trange"
   ]
  },
  {
   "cell_type": "markdown",
   "metadata": {},
   "source": [
    "## Константы"
   ]
  },
  {
   "cell_type": "markdown",
   "metadata": {},
   "source": [
    "_cam1_ - левая камера  \n",
    "_cam2_ - правая камера"
   ]
  },
  {
   "cell_type": "code",
   "execution_count": null,
   "metadata": {},
   "outputs": [],
   "source": [
    "SQUARE_SIZE = (0.01, 0.01)  # size of chess square (in m)\n",
    "CHESSBOARD_SIZE = (7, 7)\n",
    "camera_params = {\n",
    "    'focal_length_m': 80e-3,\n",
    "    'img_resolution': (5120, 4096),\n",
    "    'pixel_sz_x': 4.5e-6,  # in m\n",
    "    'pixel_sz_y': 4.5e-6  # in m\n",
    "}\n",
    "stereo_params = {\n",
    "    'baseline': 412e-3,  # in m\n",
    "    'center_dist_to_obj': 639e-3,  # in m\n",
    "}"
   ]
  },
  {
   "cell_type": "markdown",
   "metadata": {},
   "source": [
    "## Данные"
   ]
  },
  {
   "cell_type": "markdown",
   "metadata": {},
   "source": [
    "Данные сгенерированы на основе скрипта `render_chessboard.py`.  \n",
    "Парные изображения расположены в соответствующей папке `chess_dir/`, каждая пара в папке `pair_*/`. "
   ]
  },
  {
   "cell_type": "code",
   "execution_count": null,
   "metadata": {},
   "outputs": [],
   "source": [
    "imgs_folder = '/home/deniskirbaba/AI Talent Hub/Product Hack - fall 2024/chess_dir/'\n",
    "\n",
    "pair_dirs = glob.glob(f\"{imgs_folder}/pair_*/\")\n",
    "\n",
    "cam1_imgs = {}\n",
    "cam2_imgs = {}\n",
    "\n",
    "for i in trange(20, desc=\"Loading Image Pairs\"):\n",
    "    pair_dir = f\"{imgs_folder}/pair_{i}/\"\n",
    "    \n",
    "    left_img_path = os.path.join(pair_dir, 'image_left.png')\n",
    "    right_img_path = os.path.join(pair_dir, 'image_right.png')\n",
    "    \n",
    "    if os.path.exists(left_img_path):\n",
    "        img_name = f\"pair_{i}_left\"\n",
    "        img = cv.imread(left_img_path, cv.IMREAD_GRAYSCALE)\n",
    "        cam1_imgs[img_name] = img\n",
    "    \n",
    "    if os.path.exists(right_img_path):\n",
    "        img_name = f\"pair_{i}_right\"\n",
    "        img = cv.imread(right_img_path, cv.IMREAD_GRAYSCALE)\n",
    "        cam2_imgs[img_name] = img"
   ]
  },
  {
   "cell_type": "code",
   "execution_count": null,
   "metadata": {},
   "outputs": [],
   "source": [
    "# Remove bad calibration imgs\n",
    "del cam1_imgs['pair_6_left']\n",
    "del cam1_imgs['pair_7_left']\n",
    "del cam2_imgs['pair_6_right']\n",
    "del cam2_imgs['pair_7_right']"
   ]
  },
  {
   "cell_type": "code",
   "execution_count": null,
   "metadata": {},
   "outputs": [],
   "source": [
    "random_keys = random.sample(list(cam1_imgs.keys()), 3)\n",
    "\n",
    "fig, axes = plt.subplots(3, 2, figsize=(10, 10))\n",
    "\n",
    "for i, key in enumerate(random_keys):\n",
    "    left_img = cam1_imgs[key]\n",
    "    \n",
    "    right_img_key = key.replace('left', 'right')\n",
    "    right_img = cam2_imgs.get(right_img_key, None)\n",
    "    \n",
    "    axes[i, 0].imshow(left_img, cmap='gray')\n",
    "    axes[i, 0].set_title(f\"Left: {key}\")\n",
    "    axes[i, 0].axis('off')\n",
    "    \n",
    "    if right_img is not None:\n",
    "        axes[i, 1].imshow(right_img, cmap='gray')\n",
    "        axes[i, 1].set_title(f\"Right: {right_img_key}\")\n",
    "        axes[i, 1].axis('off')\n",
    "    else:\n",
    "        axes[i, 1].axis('off')\n",
    "\n",
    "plt.tight_layout()\n",
    "plt.show()"
   ]
  },
  {
   "cell_type": "markdown",
   "metadata": {},
   "source": [
    "## Поиск внутренних параметров камер"
   ]
  },
  {
   "cell_type": "markdown",
   "metadata": {},
   "source": [
    "### Вычисление camera matrix"
   ]
  },
  {
   "cell_type": "markdown",
   "metadata": {},
   "source": [
    "Camera matrix можно вычислить исходя из следующих параметров:\n",
    "1. фокусное расстояние: 80mm\n",
    "2. размер пикселя: 4.5 µm × 4.5 µm\n",
    "3. разрешение изображения: 5120 × 4096 "
   ]
  },
  {
   "cell_type": "code",
   "execution_count": null,
   "metadata": {},
   "outputs": [],
   "source": [
    "def calculate_CM(focal_length_m, img_resolution, pixel_sz_x, pixel_sz_y):\n",
    "    width, height = img_resolution\n",
    "\n",
    "    f_x = focal_length_m / pixel_sz_x\n",
    "    f_y = focal_length_m / pixel_sz_y\n",
    "\n",
    "    c_x = width / 2.0\n",
    "    c_y = height / 2.0\n",
    "\n",
    "    CM = np.array([\n",
    "        [f_x, 0, c_x],\n",
    "        [0, f_y, c_y],\n",
    "        [0, 0, 1]\n",
    "    ])\n",
    "\n",
    "    return CM"
   ]
  },
  {
   "cell_type": "code",
   "execution_count": null,
   "metadata": {},
   "outputs": [],
   "source": [
    "CM = calculate_CM(**camera_params)\n",
    "CM"
   ]
  },
  {
   "cell_type": "code",
   "execution_count": null,
   "metadata": {},
   "outputs": [],
   "source": [
    "dist = np.zeros((5,), dtype=np.float32)"
   ]
  },
  {
   "cell_type": "markdown",
   "metadata": {},
   "source": [
    "### Поиск всех внутренних параметров с помощью калибровки шахматной доской"
   ]
  },
  {
   "cell_type": "code",
   "execution_count": null,
   "metadata": {},
   "outputs": [],
   "source": [
    "def calibrate_camera(imgs, img_resolution, \n",
    "                     square_size, chessboard_size, \n",
    "                     CM_guess=None, dist_guess=None):\n",
    "    criteria = (cv.TERM_CRITERIA_EPS + cv.TERM_CRITERIA_MAX_ITER, 30, 0.001)\n",
    "    \n",
    "    objp = np.zeros((chessboard_size[0] * chessboard_size[1], 3), np.float32)\n",
    "    objp[:, :2] = np.mgrid[0:chessboard_size[0], 0:chessboard_size[1]].T.reshape(-1, 2)\n",
    "    objp *= square_size[0] \n",
    "\n",
    "    objpoints = []  # 3D points in real-world space\n",
    "    imgpoints = []  # 2D points in image plane\n",
    "\n",
    "    for i in trange(len(imgs), desc='Processing Images'):\n",
    "        img_key = list(imgs.keys())[i] \n",
    "        img = imgs[img_key].copy()\n",
    "        \n",
    "        ret, corners = cv.findChessboardCorners(img, chessboard_size, None)\n",
    "        \n",
    "        if ret:\n",
    "            objpoints.append(objp) \n",
    "            corners = cv.cornerSubPix(img, corners, (11, 11), (-1, -1), criteria)\n",
    "            imgpoints.append(corners)\n",
    "            # cv.drawChessboardCorners(img, chessboard_size, corners, ret)\n",
    "            # cv.imwrite(img_key+'.jpg', img)\n",
    "\n",
    "    flags = cv.CALIB_ZERO_TANGENT_DIST + cv.CALIB_FIX_K1 + cv.CALIB_FIX_K2 + cv.CALIB_FIX_K3\n",
    "    ret, CM, dist, _, _ = cv.calibrateCamera(\n",
    "        objpoints, imgpoints, img_resolution, CM_guess, dist_guess, flags=flags\n",
    "    )\n",
    "    print(f'RMSE: {ret}')\n",
    "    return CM, dist"
   ]
  },
  {
   "cell_type": "code",
   "execution_count": null,
   "metadata": {},
   "outputs": [],
   "source": [
    "CM1, dist1 = calibrate_camera(cam1_imgs, camera_params['img_resolution'], \n",
    "                              SQUARE_SIZE, CHESSBOARD_SIZE, \n",
    "                              CM, np.zeros((5,), dtype=np.float32))\n",
    "CM2, dist2 = calibrate_camera(cam2_imgs, camera_params['img_resolution'], \n",
    "                              SQUARE_SIZE, CHESSBOARD_SIZE, \n",
    "                              CM, np.zeros((5,), dtype=np.float32))"
   ]
  },
  {
   "cell_type": "code",
   "execution_count": null,
   "metadata": {},
   "outputs": [],
   "source": [
    "CM1, dist1, CM2, dist2"
   ]
  },
  {
   "cell_type": "markdown",
   "metadata": {},
   "source": [
    "## Стерео-калибровка"
   ]
  },
  {
   "cell_type": "markdown",
   "metadata": {},
   "source": [
    "### Manual estimation of R, T matrices given the organizator info"
   ]
  },
  {
   "cell_type": "code",
   "execution_count": null,
   "metadata": {},
   "outputs": [],
   "source": [
    "def create_rotation_matrix(rx_deg, ry_deg, rz_deg):\n",
    "    rx_rad = np.deg2rad(rx_deg)\n",
    "    ry_rad = np.deg2rad(ry_deg)\n",
    "    rz_rad = np.deg2rad(rz_deg)\n",
    "    \n",
    "    R_x = np.array([\n",
    "        [1, 0, 0],\n",
    "        [0, np.cos(rx_rad), -np.sin(rx_rad)],\n",
    "        [0, np.sin(rx_rad), np.cos(rx_rad)]\n",
    "    ])\n",
    "    R_y = np.array([\n",
    "        [np.cos(ry_rad), 0, np.sin(ry_rad)],\n",
    "        [0, 1, 0],\n",
    "        [-np.sin(ry_rad), 0, np.cos(ry_rad)]\n",
    "    ])\n",
    "    R_z = np.array([\n",
    "        [np.cos(rz_rad), -np.sin(rz_rad), 0],\n",
    "        [np.sin(rz_rad), np.cos(rz_rad), 0],\n",
    "        [0, 0, 1]\n",
    "    ])\n",
    "    \n",
    "    R = np.matmul(np.matmul(R_z, R_y), R_x)\n",
    "    \n",
    "    return R"
   ]
  },
  {
   "cell_type": "code",
   "execution_count": null,
   "metadata": {},
   "outputs": [],
   "source": [
    "# Calculating R\n",
    "# Set global coordinate system in between cameras\n",
    "R1 = create_rotation_matrix(0, 18.8, 0)\n",
    "R2 = create_rotation_matrix(0, -18.8, 0)\n",
    "\n",
    "R = np.dot(R2, R1.T)\n",
    "\n",
    "# Calculating T\n",
    "C1 = np.array([-0.206, 0.0, 0.0]) # Center of cam1 coord system\n",
    "C2 = np.array([0.206, 0.0, 0.0])  # Center of cam2 coord system\n",
    "\n",
    "# Translation vector\n",
    "t12_world = C2 - C1\n",
    "\n",
    "T = np.dot(R1.T, t12_world)\n",
    "\n",
    "R, T"
   ]
  },
  {
   "cell_type": "markdown",
   "metadata": {},
   "source": [
    "### Calibration using OpenCV"
   ]
  },
  {
   "cell_type": "code",
   "execution_count": null,
   "metadata": {},
   "outputs": [],
   "source": [
    "def stereo_calibrate(cam1_imgs, cam2_imgs, img_resolution, \n",
    "                             square_size, chessboard_size, \n",
    "                             CM1, dist1, CM2, dist2, \n",
    "                             R_guess=None, T_guess=None):\n",
    "    criteria = (cv.TERM_CRITERIA_EPS + cv.TERM_CRITERIA_MAX_ITER, 100, 0.0001)\n",
    "    \n",
    "    objp = np.zeros((chessboard_size[0] * chessboard_size[1], 3), np.float32)\n",
    "    objp[:, :2] = np.mgrid[0:chessboard_size[0], 0:chessboard_size[1]].T.reshape(-1, 2)\n",
    "    objp *= square_size[0]\n",
    "    \n",
    "    objpoints = []  # 3D points in real-world space\n",
    "    imgpoints1 = []  # 2D points in image plane of cam1 (left)\n",
    "    imgpoints2 = []  # 2D points in image plane of cam2 (right)\n",
    "    \n",
    "    for i in trange(len(cam1_imgs), desc='Processing Stereo Image Pairs'):\n",
    "        img_key = list(cam1_imgs.keys())[i] \n",
    "        img1 = cam1_imgs[img_key] \n",
    "        img2 = cam2_imgs[img_key.replace(\"_left\", \"_right\")] \n",
    "\n",
    "        ret1, corners1 = cv.findChessboardCorners(img1, chessboard_size, None)\n",
    "        ret2, corners2 = cv.findChessboardCorners(img2, chessboard_size, None)\n",
    "\n",
    "        if ret1 and ret2:\n",
    "            objpoints.append(objp) \n",
    "            \n",
    "            corners1 = cv.cornerSubPix(img1, corners1, (11, 11), (-1, -1), criteria)\n",
    "            corners2 = cv.cornerSubPix(img2, corners2, (11, 11), (-1, -1), criteria)\n",
    "            \n",
    "            imgpoints1.append(corners1) \n",
    "            imgpoints2.append(corners2)\n",
    "\n",
    "    stereocalibration_flags = cv.CALIB_FIX_INTRINSIC# + cv.CALIB_USE_EXTRINSIC_GUESS\n",
    "\n",
    "    RMSE, CM1, dist1, CM2, dist2, R, T, E, F, _, _, _ = cv.stereoCalibrateExtended(\n",
    "        objpoints, imgpoints1, imgpoints2, \n",
    "        CM1, dist1, CM2, dist2, img_resolution, \n",
    "        R_guess, T_guess, \n",
    "        flags=stereocalibration_flags,\n",
    "        criteria=criteria\n",
    "    )\n",
    "\n",
    "    print(f'Stereo Calibration RMSE: {RMSE}')\n",
    "    return R, T, E, F"
   ]
  },
  {
   "cell_type": "markdown",
   "metadata": {},
   "source": [
    "R: The relative rotation matrix between the first and second cameras. This matrix describes how the second camera is rotated relative to the first camera.\n",
    "\n",
    "T: The translation vector between the first and second cameras. This vector describes how far and in which direction the second camera is from the first camera.\n",
    "\n",
    "E: The essential matrix. This matrix encodes the rotation and translation between the two cameras, and it can be used to compute the epipolar geometry (constraints for stereo matching).\n",
    "\n",
    "F: The fundamental matrix. This is another way of representing the geometric relationship between the two cameras. It defines the epipolar lines in stereo matching."
   ]
  },
  {
   "cell_type": "code",
   "execution_count": null,
   "metadata": {},
   "outputs": [],
   "source": [
    "R, T, E, F = stereo_calibrate(cam1_imgs, cam2_imgs, camera_params['img_resolution'], \n",
    "                                            SQUARE_SIZE, CHESSBOARD_SIZE, \n",
    "                                            CM1, dist1, CM2, dist2, \n",
    "                                            R, T)\n",
    "\n",
    "print(\"Rotation Matrix:\\n\", R)\n",
    "print(\"Translation Vector:\\n\", T)"
   ]
  },
  {
   "cell_type": "code",
   "execution_count": null,
   "metadata": {},
   "outputs": [],
   "source": [
    "R, T"
   ]
  },
  {
   "cell_type": "markdown",
   "metadata": {},
   "source": [
    "Проверим baseline и углы поворота для полученных матриц"
   ]
  },
  {
   "cell_type": "code",
   "execution_count": null,
   "metadata": {},
   "outputs": [],
   "source": [
    "def rotation_matrix_to_euler_angles(R):\n",
    "    sy = np.sqrt(R[0, 0] ** 2 + R[1, 0] ** 2)\n",
    "    \n",
    "    singular = sy < 1e-6\n",
    "    \n",
    "    if not singular:\n",
    "        yaw = np.arctan2(R[2, 1], R[2, 2])\n",
    "        pitch = np.arctan2(-R[2, 0], sy)\n",
    "        roll = np.arctan2(R[1, 0], R[0, 0])\n",
    "    else:\n",
    "        yaw = np.arctan2(-R[1, 2], R[1, 1])\n",
    "        pitch = np.arctan2(-R[2, 0], sy)\n",
    "        roll = 0\n",
    "\n",
    "    return np.degrees(np.array([yaw, pitch, roll]))\n",
    "\n",
    "def show_baseline_and_rotation(T_calculated, R_calculated, real_baseline, R_real=None):\n",
    "    calculated_baseline = np.linalg.norm(T)\n",
    "    \n",
    "    print(f\"Calculated baseline: {calculated_baseline:.2f} m\")\n",
    "    print(f\"Real baseline: {real_baseline:.2f} m\")\n",
    "    \n",
    "    baseline_difference = np.abs(calculated_baseline - real_baseline)\n",
    "    print(f\"Baseline difference: {baseline_difference:.2f} m\")\n",
    "    \n",
    "    euler_angles_calculated = rotation_matrix_to_euler_angles(R_calculated)\n",
    "    print(\"\\nCalculated Euler angles (Yaw, Pitch, Roll):\")\n",
    "    print(f\"Yaw: {euler_angles_calculated[0]:.2f} degrees\")\n",
    "    print(f\"Pitch: {euler_angles_calculated[1]:.2f} degrees\")\n",
    "    print(f\"Roll: {euler_angles_calculated[2]:.2f} degrees\")"
   ]
  },
  {
   "cell_type": "code",
   "execution_count": null,
   "metadata": {},
   "outputs": [],
   "source": [
    "show_baseline_and_rotation(T, R, stereo_params['baseline'])"
   ]
  },
  {
   "cell_type": "markdown",
   "metadata": {},
   "source": [
    "## Export the camera's intrinsic and extrinsic parameters"
   ]
  },
  {
   "cell_type": "code",
   "execution_count": null,
   "metadata": {},
   "outputs": [],
   "source": [
    "calibration_data_json = {\n",
    "    'CM': CM.tolist(),\n",
    "    'dist': dist.tolist(),\n",
    "    'R': R.tolist(),\n",
    "    'T': T.tolist(),\n",
    "    'E': E.tolist(),\n",
    "    'F': F.tolist()\n",
    "}\n",
    "\n",
    "with open('data/calibration_data_synthetic.json', 'w') as f:\n",
    "    json.dump(calibration_data_json, f, indent=4)"
   ]
  }
 ],
 "metadata": {
  "kernelspec": {
   "display_name": "hack-sev",
   "language": "python",
   "name": "python3"
  },
  "language_info": {
   "codemirror_mode": {
    "name": "ipython",
    "version": 3
   },
   "file_extension": ".py",
   "mimetype": "text/x-python",
   "name": "python",
   "nbconvert_exporter": "python",
   "pygments_lexer": "ipython3",
   "version": "3.10.14"
  }
 },
 "nbformat": 4,
 "nbformat_minor": 2
}
