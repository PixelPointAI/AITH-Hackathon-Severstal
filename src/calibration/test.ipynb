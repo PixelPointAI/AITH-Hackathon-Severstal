{
 "cells": [
  {
   "cell_type": "markdown",
   "metadata": {},
   "source": [
    "# Калибровка"
   ]
  },
  {
   "cell_type": "code",
   "execution_count": null,
   "metadata": {},
   "outputs": [],
   "source": [
    "import cv2 as cv\n",
    "import numpy as np\n",
    "import matplotlib.pyplot as plt\n",
    "import glob\n",
    "import os\n",
    "import json"
   ]
  },
  {
   "cell_type": "markdown",
   "metadata": {},
   "source": [
    "## Подготовка данных"
   ]
  },
  {
   "cell_type": "markdown",
   "metadata": {},
   "source": [
    "Вручную отметил точку на маркерных досках, т.к. иначе получить координаты всех точек на маркерной доске, чтобы они формировали матрицу не удавалось (пробовал это сделать с помощью выделения Blob-ов, binary threshold, Hough Circle Transform, использовать модели на нейронных сетях - U-Net). Выделить маркеры в целом получалось, однако затем всё равно требуется вручную сопоставить их с координатами в системе координат относительно маркерной доски.\n",
    "\n",
    "Итак, координаты маркерных точек находятся в файле *calib_imgs.json*. На каждом изображении 49 точек, формирующих матрицу 7 на 7. Точки затем сопоставляются с координатами самой доски в реальном 3D пространстве *objp*."
   ]
  },
  {
   "cell_type": "code",
   "execution_count": null,
   "metadata": {},
   "outputs": [],
   "source": [
    "imgs_folder = os.path.join(os.path.dirname(os.path.dirname(os.getcwd())), \n",
    "                              'test_imgs')\n",
    "cam1_imgs_names = glob.glob(f\"{imgs_folder}/cam1_*.jpg\")\n",
    "cam2_imgs_names = glob.glob(f\"{imgs_folder}/cam2_*.jpg\")"
   ]
  },
  {
   "cell_type": "code",
   "execution_count": null,
   "metadata": {},
   "outputs": [],
   "source": [
    "cam1_images_dict = {}\n",
    "cam2_images_dict = {}\n",
    "\n",
    "for imname in sorted(cam1_imgs_names):\n",
    "    im = cv.imread(imname, 0)\n",
    "    image_key = os.path.splitext(os.path.basename(imname))[0]\n",
    "    cam1_images_dict[image_key] = im\n",
    "\n",
    "for imname in sorted(cam2_imgs_names):\n",
    "    im = cv.imread(imname, 0)\n",
    "    image_key = os.path.splitext(os.path.basename(imname))[0]\n",
    "    cam2_images_dict[image_key] = im"
   ]
  },
  {
   "cell_type": "code",
   "execution_count": null,
   "metadata": {},
   "outputs": [],
   "source": [
    "plt.figure(figsize=(30, 15)) \n",
    "for i, img in enumerate(cam1_images_dict.values()):\n",
    "    plt.subplot(1, len(cam1_images_dict), i + 1) \n",
    "    plt.imshow(cv.cvtColor(img, cv.COLOR_GRAY2RGB))\n",
    "    plt.axis('off')\n",
    "plt.show()"
   ]
  },
  {
   "cell_type": "code",
   "execution_count": null,
   "metadata": {},
   "outputs": [],
   "source": [
    "plt.figure(figsize=(30, 15)) \n",
    "for i, img in enumerate(cam2_images_dict.values()):\n",
    "    plt.subplot(1, len(cam2_images_dict), i + 1) \n",
    "    plt.imshow(cv.cvtColor(img, cv.COLOR_GRAY2RGB))\n",
    "    plt.axis('off')\n",
    "plt.show()"
   ]
  },
  {
   "cell_type": "markdown",
   "metadata": {},
   "source": [
    "__ВАЖНО__!  \n",
    "Фотку с маленькой доской (№4) использовать не будем, так как я отмечал точки на маленькой панели, а расстояния между ними меньше чем на большой панели.  \n",
    "Эти фотки можно будет использовать только тогда, когда узнаем точное соотношение между расстояниями между маркерами на маленькой и большой досках. Для этого просто надо будет изменить параметр *world_scaling* в функциях калибровки."
   ]
  },
  {
   "cell_type": "code",
   "execution_count": null,
   "metadata": {},
   "outputs": [],
   "source": [
    "# Delete the 4-th image from images\n",
    "del cam1_images_dict['cam1_4']\n",
    "del cam2_images_dict['cam2_4']"
   ]
  },
  {
   "cell_type": "code",
   "execution_count": null,
   "metadata": {},
   "outputs": [],
   "source": [
    "# Load the markers points for these images\n",
    "json_path_calib_imgs = 'calib_imgs.json'\n",
    "with open(json_path_calib_imgs, 'r') as file:\n",
    "    circle_centers = json.load(file)\n",
    "\n",
    "# Convert the string coordinates (\"x, y\") into tuples of integers\n",
    "parsed_circle_centers = {}\n",
    "for image_name, coordinates in circle_centers.items():\n",
    "    parsed_circle_centers[image_name] = [tuple(map(int, point.split(','))) for point in coordinates]"
   ]
  },
  {
   "cell_type": "code",
   "execution_count": null,
   "metadata": {},
   "outputs": [],
   "source": [
    "# Delete the 4-th image circles\n",
    "del parsed_circle_centers['cam1_4']\n",
    "del parsed_circle_centers['cam2_4']"
   ]
  },
  {
   "cell_type": "code",
   "execution_count": null,
   "metadata": {},
   "outputs": [],
   "source": [
    "def plot_image_with_centers(image, centers):\n",
    "    image_rgb = cv.cvtColor(image, cv.COLOR_GRAY2RGB)\n",
    "    plt.figure(figsize=(10, 10))\n",
    "    plt.imshow(image_rgb)\n",
    "    centers_np = np.array(centers, dtype=np.float32)\n",
    "    for center in centers_np:\n",
    "        plt.scatter(center[0], center[1], color='red', s=50)  # Red dots for centers\n",
    "    plt.title('Image with Circle Centers')\n",
    "    plt.show()"
   ]
  },
  {
   "cell_type": "markdown",
   "metadata": {},
   "source": [
    "### Пример размеченной фотки"
   ]
  },
  {
   "cell_type": "code",
   "execution_count": null,
   "metadata": {},
   "outputs": [],
   "source": [
    "img_name = 'cam1_2'\n",
    "img = cam1_images_dict[img_name]\n",
    "plot_image_with_centers(img, parsed_circle_centers[img_name])"
   ]
  },
  {
   "cell_type": "markdown",
   "metadata": {},
   "source": [
    "## Вычисление camera matrix"
   ]
  },
  {
   "cell_type": "markdown",
   "metadata": {},
   "source": [
    "Camera matrix можно вычислить исходя из следующих параметров:\n",
    "1. фокусное расстояние: 80mm\n",
    "2. размер пикселя: 4.5 µm × 4.5 µm\n",
    "3. разрешение изображения: 5120 × 4096 "
   ]
  },
  {
   "cell_type": "code",
   "execution_count": null,
   "metadata": {},
   "outputs": [],
   "source": [
    "def calculate_camera_matrix(focal_length_mm, image_resolution, pixel_size_x, pixel_size_y):\n",
    "    \"\"\"\n",
    "    Calculate the camera intrinsic matrix given focal length, image resolution, and pixel size.\n",
    "\n",
    "    Args:\n",
    "        focal_length_mm (float): Focal length of the camera in millimeters.\n",
    "        image_resolution (tuple): Image resolution as (width, height) in pixels.\n",
    "        pixel_size_x (float): Pixel size along the x-axis (in mm).\n",
    "        pixel_size_y (float): Pixel size along the y-axis (in mm).\n",
    "\n",
    "    Returns:\n",
    "        np.array: 3x3 camera intrinsic matrix.\n",
    "    \"\"\"\n",
    "    width, height = image_resolution\n",
    "\n",
    "    f_x = focal_length_mm / pixel_size_x\n",
    "    f_y = focal_length_mm / pixel_size_y\n",
    "\n",
    "    # Assume optical center (c_x, c_y) is at the center of the image\n",
    "    c_x = width / 2.0\n",
    "    c_y = height / 2.0\n",
    "\n",
    "    camera_matrix = np.array([\n",
    "        [f_x, 0,    c_x],\n",
    "        [0,   f_y,  c_y],\n",
    "        [0,   0,    1]\n",
    "    ])\n",
    "\n",
    "    return camera_matrix"
   ]
  },
  {
   "cell_type": "code",
   "execution_count": null,
   "metadata": {},
   "outputs": [],
   "source": [
    "camera_params = {\n",
    "    'focal_length_mm': 80,\n",
    "    'image_resolution': (5120, 4096),\n",
    "    'pixel_size_x': 4.5e-3,\n",
    "    'pixel_size_y': 4.5e-3\n",
    "}"
   ]
  },
  {
   "cell_type": "code",
   "execution_count": null,
   "metadata": {},
   "outputs": [],
   "source": [
    "CM = calculate_camera_matrix(**camera_params)\n",
    "CM"
   ]
  },
  {
   "cell_type": "markdown",
   "metadata": {},
   "source": [
    "## Поиск вектора искажений"
   ]
  },
  {
   "cell_type": "markdown",
   "metadata": {},
   "source": [
    "У нас уже есть матрица камеры и вычислим коэффициенты искажения с использованием калибровочных изображений и отмеченных вручную маркерах на них (*test_imgs/* и *calib_imgs.json*).\n",
    "\n",
    "calibrateCamera принимает начальное предположение для матрицы камеры (mtx_initial_guess) и вычисляет только вектор искажения для этого зафиксируем флаг cv.CALIB_FIX_INTRINSIC."
   ]
  },
  {
   "cell_type": "code",
   "execution_count": null,
   "metadata": {},
   "outputs": [],
   "source": [
    "def calibrate_distortion_with_circles(images,\n",
    "                                      img_dims,\n",
    "                                      circle_centers,\n",
    "                                      mtx_known,\n",
    "                                      dist_initial_guess=None):\n",
    "    rows = 7\n",
    "    columns = 7\n",
    "    world_scaling = 10.  # Real-world scaling: in mm\n",
    "\n",
    "    # 3D world coordinates of circles\n",
    "    objp = np.zeros((rows * columns, 3), np.float32)\n",
    "    objp[:, :2] = np.mgrid[0:rows, 0:columns].T.reshape(-1, 2)\n",
    "    objp *= world_scaling\n",
    "\n",
    "    # Initialize arrays for image and object points\n",
    "    objpoints = []  # 3D points in real world space\n",
    "    imgpoints = []  # 2D points in image plane\n",
    "    \n",
    "    for img_name in images:\n",
    "        corners = np.array(circle_centers[img_name], dtype=np.float32)\n",
    "        imgpoints.append(corners)\n",
    "        objpoints.append(objp)\n",
    "\n",
    "    ret, _, dist, _, _ = cv.calibrateCamera(objpoints, imgpoints, img_dims, \n",
    "                                            mtx_known, dist_initial_guess, \n",
    "                                            flags=cv.CALIB_FIX_INTRINSIC)\n",
    "    print('RMSE:', ret)\n",
    "    \n",
    "    return dist\n"
   ]
  },
  {
   "cell_type": "code",
   "execution_count": null,
   "metadata": {},
   "outputs": [],
   "source": [
    "allcam_images_dict = {**cam1_images_dict, **cam2_images_dict}"
   ]
  },
  {
   "cell_type": "code",
   "execution_count": null,
   "metadata": {},
   "outputs": [],
   "source": [
    "dist = calibrate_distortion_with_circles(allcam_images_dict, \n",
    "                                  camera_params['image_resolution'], \n",
    "                                  parsed_circle_centers, \n",
    "                                  CM)\n",
    "dist"
   ]
  },
  {
   "cell_type": "markdown",
   "metadata": {},
   "source": [
    "## Стерео-калибровка"
   ]
  },
  {
   "cell_type": "code",
   "execution_count": null,
   "metadata": {},
   "outputs": [],
   "source": [
    "def stereo_calibrate(cam1_imgs, cam2_imgs, img_dims, circle_centers, CM, dist):\n",
    "    criteria = (cv.TERM_CRITERIA_EPS + cv.TERM_CRITERIA_MAX_ITER, 1000, 0.0001)\n",
    "        \n",
    "    rows = 7\n",
    "    columns = 7\n",
    "    world_scaling = 10.  # Real-world scaling: in mm\n",
    "\n",
    "    # 3D world coordinates of circles\n",
    "    objp = np.zeros((rows * columns, 3), np.float32)\n",
    "    objp[:, :2] = np.mgrid[0:rows, 0:columns].T.reshape(-1, 2)\n",
    "    objp *= world_scaling\n",
    "\n",
    "    # Initialize arrays for image and object points\n",
    "    objpoints = []  # 3D points in real world space\n",
    "    imgpoints_cam1 = []\n",
    "    imgpoints_cam2 = []\n",
    "\n",
    "    # Process each image\n",
    "    for cam1_img_name, cam2_img_name in zip(cam1_imgs, cam2_imgs):\n",
    "        objpoints.append(objp)\n",
    "        imgpoints_cam1.append(np.array(circle_centers[cam1_img_name], dtype=np.float32))\n",
    "        imgpoints_cam2.append(np.array(circle_centers[cam2_img_name], dtype=np.float32))\n",
    "        \n",
    "    stereocalibration_flags = cv.CALIB_FIX_INTRINSIC\n",
    "    ret, _, _, _, _, R, T, E, F = cv.stereoCalibrate(objpoints, \n",
    "                                                    imgpoints_cam1, \n",
    "                                                    imgpoints_cam2, \n",
    "                                                    CM, dist,\n",
    "                                                    CM, dist, \n",
    "                                                    img_dims, \n",
    "                                                    criteria = criteria, \n",
    "                                                    flags = stereocalibration_flags)\n",
    " \n",
    "    print(ret)\n",
    "    return R, T, E, F"
   ]
  },
  {
   "cell_type": "markdown",
   "metadata": {},
   "source": [
    "R: The relative rotation matrix between the first and second cameras. This matrix describes how the second camera is rotated relative to the first camera.\n",
    "\n",
    "T: The translation vector between the first and second cameras. This vector describes how far and in which direction the second camera is from the first camera.\n",
    "\n",
    "E: The essential matrix. This matrix encodes the rotation and translation between the two cameras, and it can be used to compute the epipolar geometry (constraints for stereo matching).\n",
    "\n",
    "F: The fundamental matrix. This is another way of representing the geometric relationship between the two cameras. It defines the epipolar lines in stereo matching."
   ]
  },
  {
   "cell_type": "code",
   "execution_count": null,
   "metadata": {},
   "outputs": [],
   "source": [
    "R, T, E, F = stereo_calibrate(cam1_images_dict, \n",
    "                              cam2_images_dict, \n",
    "                              camera_params['image_resolution'],\n",
    "                              parsed_circle_centers, \n",
    "                              CM, dist)"
   ]
  },
  {
   "cell_type": "markdown",
   "metadata": {},
   "source": [
    "## Export the camera's intrinsic and extrinsic parameters"
   ]
  },
  {
   "cell_type": "code",
   "execution_count": null,
   "metadata": {},
   "outputs": [],
   "source": [
    "# Saving in JSON\n",
    "\n",
    "# Convert NumPy arrays to lists for JSON serialization\n",
    "calibration_data_json = {\n",
    "    'CM': CM.tolist(),\n",
    "    'dist': dist.tolist(),\n",
    "    'R': R.tolist(),\n",
    "    'T': T.tolist(),\n",
    "    'E': E.tolist(),\n",
    "    'F': F.tolist()\n",
    "}\n",
    "\n",
    "with open('calibration_data.json', 'w') as f:\n",
    "    json.dump(calibration_data_json, f, indent=4)"
   ]
  }
 ],
 "metadata": {
  "kernelspec": {
   "display_name": "hack-sev",
   "language": "python",
   "name": "python3"
  },
  "language_info": {
   "codemirror_mode": {
    "name": "ipython",
    "version": 3
   },
   "file_extension": ".py",
   "mimetype": "text/x-python",
   "name": "python",
   "nbconvert_exporter": "python",
   "pygments_lexer": "ipython3",
   "version": "3.10.14"
  }
 },
 "nbformat": 4,
 "nbformat_minor": 2
}
