{
 "cells": [
  {
   "cell_type": "code",
   "metadata": {},
   "outputs": [],
   "source": [
    "import cv2\n",
    "import numpy as np\n",
    "import matplotlib.pyplot as plt"
   ]
  },
  {
   "cell_type": "code",
   "metadata": {},
   "outputs": [],
   "source": [
    "data_folder_left = \"data/left/\"\n",
    "data_folder_right = \"data/right/\"\n",
    "data_folder_calibration = \"data/training/calibration/\" # Try to use in future (while cam params will be fully and correctly provided)"
   ]
  },
  {
   "cell_type": "code",
   "metadata": {},
   "outputs": [],
   "source": [
    "img_fname = \"image.jpg\"\n",
    "calib_fname = \"cam_params.txt\" # Try to use in future (while cam params will be fully and correctly provided)"
   ]
  },
  {
   "cell_type": "code",
   "metadata": {},
   "outputs": [],
   "source": [
    "img_left_color = cv2.imread(data_folder_left + img_fname)\n",
    "img_right_color = cv2.imread(data_folder_right + img_fname)"
   ]
  },
  {
   "cell_type": "code",
   "metadata": {},
   "outputs": [],
   "source": [
    "img_left_bw = cv2.blur(cv2.cvtColor(img_left_color, cv2.COLOR_RGB2GRAY),(5,5))\n",
    "img_right_bw = cv2.blur(cv2.cvtColor(img_right_color, cv2.COLOR_RGB2GRAY),(5,5))"
   ]
  },
  {
   "cell_type": "code",
   "metadata": {},
   "outputs": [],
   "source": [
    "def showImg(img):\n",
    "    plt.imshow(cv2.cvtColor(img, cv2.COLOR_RGB2BGR))\n",
    "    \n",
    "def write_ply(fn, verts, colors):\n",
    "    ply_header = '''ply\n",
    "format ascii 1.0\n",
    "element vertex %(vert_num)d\n",
    "property float x\n",
    "property float y\n",
    "property float z\n",
    "property uchar red\n",
    "property uchar green\n",
    "property uchar blue\n",
    "end_header\n",
    "    '''\n",
    "    out_colors = colors.copy()\n",
    "    verts = verts.reshape(-1, 3)\n",
    "    verts = np.hstack([verts, out_colors])\n",
    "    with open(fn, 'wb') as f:\n",
    "        f.write((ply_header % dict(vert_num=len(verts))).encode('utf-8'))\n",
    "        np.savetxt(f, verts, fmt='%f %f %f %d %d %d ')"
   ]
  },
  {
   "cell_type": "code",
   "metadata": {},
   "outputs": [],
   "source": [
    "plt.imshow(img_left_bw, cmap='gray')\n",
    "plt.show()"
   ]
  },
  {
   "cell_type": "code",
   "metadata": {},
   "outputs": [],
   "source": [
    "plt.imshow(img_right_bw, cmap='gray')\n",
    "plt.show()"
   ]
  },
  {
   "cell_type": "code",
   "execution_count": null,
   "metadata": {},
   "outputs": [],
   "source": [
    "stereo = cv2.StereoBM_create(numDisparities=16 * 10, blockSize=9) #numDisparities=96, blockSize=11)\n",
    "disparity = stereo.compute(img_left_bw, img_right_bw)\n",
    "disparity"
   ]
  },
  {
   "cell_type": "code",
   "metadata": {},
   "outputs": [],
   "source": [
    "min_ = disparity.min()\n",
    "max_ = disparity.max()\n",
    "disparity = np.uint8(255 * (disparity - min_) / (max_ - min_))\n",
    "plt.imshow(disparity, 'gray')\n",
    "plt.axis(\"off\")\n",
    "plt. show()"
   ]
  },
  {
   "cell_type": "code",
   "metadata": {},
   "outputs": [],
   "source": [
    "img = disparity.copy()\n",
    "plt.imshow(img, 'CMRmap_r')\n",
    "plt.show()\n"
   ]
  },
  {
   "cell_type": "code",
   "metadata": {},
   "outputs": [],
   "source": [
    "# Calculate depth-to-disparity\n",
    "\n",
    "cam1 = np.array([\n",
    "    [11377.78, 0, 2560],\n",
    "    [0, 17066.6660, 2048],\n",
    "    [0, 0, 1]\n",
    "])\n",
    "\n",
    "cam2 = np.array([\n",
    "    [11377.78, 0, 2560],\n",
    "    [0, 17066.6660, 2048],\n",
    "    [0, 0, 1]\n",
    "])\n",
    "\n",
    "Tmat = np.array([0.54, 0., 0.])\n",
    "\n",
    "rev_proj_matrix = np.zeros((4,4))\n",
    "\n",
    "cv2.stereoRectify(cameraMatrix1 = cam1,cameraMatrix2 = cam2, \\\n",
    "                  distCoeffs1 = 0, distCoeffs2 = 0, \\\n",
    "                  imageSize = img_left_color.shape[:2], \\\n",
    "                  R = np.identity(3), T = Tmat, \\\n",
    "                  R1 = None, R2 = None, \\\n",
    "                  P1 =  None, P2 =  None, Q = rev_proj_matrix);\n"
   ]
  },
  {
   "cell_type": "code",
   "metadata": {},
   "outputs": [],
   "source": [
    "points = cv2.reprojectImageTo3D(img, rev_proj_matrix)\n",
    "\n",
    "#reflect on x axis\n",
    "reflect_matrix = np.identity(3)\n",
    "reflect_matrix[0] *= -1\n",
    "points = np.matmul(points,reflect_matrix)\n",
    "\n",
    "#extract colors from image\n",
    "colors = cv2.cvtColor(img_left_color, cv2.COLOR_BGR2RGB)\n",
    "\n",
    "#filter by min disparity\n",
    "mask = img > img.min()\n",
    "out_points = points[mask]\n",
    "out_colors = colors[mask]\n",
    "\n",
    "#filter by dimension\n",
    "idx = np.fabs(out_points[:,0]) < 4.5\n",
    "out_points = out_points[idx]\n",
    "out_colors = out_colors.reshape(-1, 3)\n",
    "out_colors = out_colors[idx]"
   ]
  },
  {
   "cell_type": "code",
   "metadata": {},
   "outputs": [],
   "source": [
    "# Визуализация 3D точек\n",
    "fig = plt.figure(figsize=(10, 7))\n",
    "ax = fig.add_subplot(111, projection='3d')\n",
    "ax.scatter(out_points[:, 0], out_points[:, 1], out_points[:, 2], c=out_colors / 255.0, s=0.1)\n",
    "ax.view_init(elev=20, azim=30)\n",
    "ax.set_xlabel('X')\n",
    "ax.set_ylabel('Y')\n",
    "ax.set_zlabel('Z')\n",
    "plt.show()"
   ]
  },
  {
   "cell_type": "code",
   "metadata": {},
   "outputs": [],
   "source": [
    "write_ply('out.ply', out_points, out_colors)\n",
    "print('%s saved' % 'out.ply')"
   ]
  },
  {
   "cell_type": "code",
   "metadata": {},
   "outputs": [],
   "source": [
    "reflected_pts = np.matmul(out_points, reflect_matrix)\n",
    "projected_img,_ = cv2.projectPoints(reflected_pts, np.identity(3), np.array([0., 0., 0.]), \\\n",
    "                          cam2[:3,:3], np.array([0., 0., 0., 0.]))\n",
    "projected_img = projected_img.reshape(-1, 2)"
   ]
  },
  {
   "cell_type": "code",
   "metadata": {},
   "outputs": [],
   "source": [
    "blank_img = np.zeros(img_left_color.shape, 'uint8')\n",
    "img_colors = img_right_color[mask][idx].reshape(-1,3)\n",
    "\n",
    "for i, pt in enumerate(projected_img):\n",
    "    pt_x = int(pt[0])\n",
    "    pt_y = int(pt[1])\n",
    "    if pt_x > 0 and pt_y > 0:\n",
    "        # use the BGR format to match the original image type\n",
    "        col = (int(img_colors[i, 2]), int(img_colors[i, 1]), int(img_colors[i, 0]))\n",
    "        cv2.circle(blank_img, (pt_x, pt_y), 1, col)"
   ]
  },
  {
   "cell_type": "code",
   "metadata": {},
   "outputs": [],
   "source": [
    "showImg(blank_img)"
   ]
  }
 ],
 "metadata": {
  "kernelspec": {
   "display_name": "Python 3",
   "language": "python",
   "name": "python3"
  },
  "language_info": {
   "codemirror_mode": {
    "name": "ipython",
    "version": 3
   },
   "file_extension": ".py",
   "mimetype": "text/x-python",
   "name": "python",
   "nbconvert_exporter": "python",
   "pygments_lexer": "ipython3",
   "version": "3.8.15"
  }
 },
 "nbformat": 4,
 "nbformat_minor": 2
}
