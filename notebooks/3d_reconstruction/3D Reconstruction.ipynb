{
 "cells": [
  {
   "cell_type": "code",
   "execution_count": null,
   "metadata": {},
   "outputs": [],
   "source": [
    "import cv2\n",
    "import numpy as np\n",
    "import matplotlib.pyplot as plt"
   ]
  },
  {
   "cell_type": "code",
   "execution_count": null,
   "metadata": {},
   "outputs": [],
   "source": [
    "data_folder_left = \"data/img_left_train/\"\n",
    "data_folder_right = \"data/img_right_train/\"\n",
    "data_folder_calibration = \"data/training/calibration/\""
   ]
  },
  {
   "cell_type": "code",
   "execution_count": null,
   "metadata": {},
   "outputs": [],
   "source": [
    "img_fname = \"image.png\"\n",
    "calib_fname = \"cam_params.txt\""
   ]
  },
  {
   "cell_type": "code",
   "execution_count": null,
   "metadata": {},
   "outputs": [],
   "source": [
    "img_left_color = cv2.imread(data_folder_left + img_fname)\n",
    "img_right_color = cv2.imread(data_folder_right + img_fname)"
   ]
  },
  {
   "cell_type": "code",
   "execution_count": null,
   "metadata": {},
   "outputs": [],
   "source": [
    "img_left_bw = cv2.blur(cv2.cvtColor(img_left_color, cv2.COLOR_RGB2GRAY),(5,5))\n",
    "img_right_bw = cv2.blur(cv2.cvtColor(img_right_color, cv2.COLOR_RGB2GRAY),(5,5))"
   ]
  },
  {
   "cell_type": "code",
   "execution_count": null,
   "metadata": {},
   "outputs": [],
   "source": [
    "def showImg(img):\n",
    "    plt.imshow(cv2.cvtColor(img, cv2.COLOR_RGB2BGR))\n",
    "    \n",
    "def write_ply(fn, verts, colors):\n",
    "    ply_header = '''ply\n",
    "    format ascii 1.0\n",
    "    element vertex %(vert_num)d\n",
    "    property float x\n",
    "    property float y\n",
    "    property float z\n",
    "    property uchar red\n",
    "    property uchar green\n",
    "    property uchar blue\n",
    "    end_header\n",
    "    '''\n",
    "    out_colors = colors.copy()\n",
    "    verts = verts.reshape(-1, 3)\n",
    "    verts = np.hstack([verts, out_colors])\n",
    "    with open(fn, 'wb') as f:\n",
    "        f.write((ply_header % dict(vert_num=len(verts))).encode('utf-8'))\n",
    "        np.savetxt(f, verts, fmt='%f %f %f %d %d %d ')"
   ]
  },
  {
   "cell_type": "code",
   "execution_count": null,
   "metadata": {},
   "outputs": [],
   "source": [
    "plt.imshow(img_left_bw, cmap='gray')\n",
    "plt.show()"
   ]
  },
  {
   "cell_type": "code",
   "execution_count": null,
   "metadata": {},
   "outputs": [],
   "source": [
    "plt.imshow(img_right_bw, cmap='gray')\n",
    "plt.show()"
   ]
  },
  {
   "cell_type": "code",
   "execution_count": null,
   "metadata": {},
   "outputs": [],
   "source": [
    "stereo = cv2.StereoBM_create(numDisparities=16 * 50, blockSize=9) #numDisparities=96, blockSize=11)\n",
    "disparity = stereo.compute(img_left_bw, img_right_bw)"
   ]
  },
  {
   "cell_type": "code",
   "execution_count": null,
   "metadata": {},
   "outputs": [],
   "source": [
    "img = disparity.copy()\n",
    "plt.imshow(img, 'CMRmap_r')\n",
    "plt.show()"
   ]
  },
  {
   "cell_type": "code",
   "execution_count": null,
   "metadata": {},
   "outputs": [],
   "source": [
    "# Reading calibration\n",
    "matrix_type_1 = 'P2'\n",
    "matrix_type_2 = 'P3'\n",
    "\n",
    "calib_file = data_folder_calibration + calib_fname\n",
    "with open(calib_file, 'r') as f:\n",
    "    fin = f.readlines()\n",
    "    for line in fin:\n",
    "        if line[:2] == matrix_type_1:\n",
    "            calib_matrix_1 = np.array(line[4:].strip().split(\" \")).astype('float32').reshape(3,-1)\n",
    "        elif line[:2] == matrix_type_2:\n",
    "            calib_matrix_2 = np.array(line[4:].strip().split(\" \")).astype('float32').reshape(3,-1)\n"
   ]
  },
  {
   "cell_type": "code",
   "execution_count": null,
   "metadata": {},
   "outputs": [],
   "source": [
    "# Calculate depth-to-disparity\n",
    "cam1 = calib_matrix_1[:,:3] # left image - P2\n",
    "cam2 = calib_matrix_2[:,:3] # right image - P3\n",
    "\n",
    "Tmat = np.array([0.54, 0., 0.])\n",
    "\n",
    "rev_proj_matrix = np.zeros((4,4))\n",
    "\n",
    "cv2.stereoRectify(cameraMatrix1 = cam1,cameraMatrix2 = cam2, \\\n",
    "                  distCoeffs1 = 0, distCoeffs2 = 0, \\\n",
    "                  imageSize = img_left_color.shape[:2], \\\n",
    "                  R = np.identity(3), T = Tmat, \\\n",
    "                  R1 = None, R2 = None, \\\n",
    "                  P1 =  None, P2 =  None, Q = rev_proj_matrix);\n"
   ]
  },
  {
   "cell_type": "code",
   "execution_count": null,
   "metadata": {},
   "outputs": [],
   "source": [
    "points = cv2.reprojectImageTo3D(img, rev_proj_matrix)\n",
    "\n",
    "#reflect on x axis\n",
    "reflect_matrix = np.identity(3)\n",
    "reflect_matrix[0] *= -1\n",
    "points = np.matmul(points,reflect_matrix)\n",
    "\n",
    "#extract colors from image\n",
    "colors = cv2.cvtColor(img_left_color, cv2.COLOR_BGR2RGB)\n",
    "\n",
    "#filter by min disparity\n",
    "mask = img > img.min()\n",
    "out_points = points[mask]\n",
    "out_colors = colors[mask]\n",
    "\n",
    "#filter by dimension\n",
    "idx = np.fabs(out_points[:,0]) < 4.5\n",
    "out_points = out_points[idx]\n",
    "out_colors = out_colors.reshape(-1, 3)\n",
    "out_colors = out_colors[idx]"
   ]
  },
  {
   "cell_type": "code",
   "execution_count": null,
   "metadata": {},
   "outputs": [],
   "source": [
    "\n",
    "write_ply('out.ply', out_points, out_colors)\n",
    "print('%s saved' % 'out.ply')"
   ]
  },
  {
   "cell_type": "code",
   "execution_count": null,
   "metadata": {},
   "outputs": [],
   "source": [
    "reflected_pts = np.matmul(out_points, reflect_matrix)\n",
    "projected_img,_ = cv2.projectPoints(reflected_pts, np.identity(3), np.array([0., 0., 0.]), \\\n",
    "                          cam2[:3,:3], np.array([0., 0., 0., 0.]))\n",
    "projected_img = projected_img.reshape(-1, 2)"
   ]
  },
  {
   "cell_type": "code",
   "execution_count": null,
   "metadata": {},
   "outputs": [],
   "source": [
    "blank_img = np.zeros(img_left_color.shape, 'uint8')\n",
    "img_colors = img_right_color[mask][idx].reshape(-1,3)\n",
    "\n",
    "for i, pt in enumerate(projected_img):\n",
    "    pt_x = int(pt[0])\n",
    "    pt_y = int(pt[1])\n",
    "    if pt_x > 0 and pt_y > 0:\n",
    "        # use the BGR format to match the original image type\n",
    "        col = (int(img_colors[i, 2]), int(img_colors[i, 1]), int(img_colors[i, 0]))\n",
    "        cv2.circle(blank_img, (pt_x, pt_y), 1, col)"
   ]
  },
  {
   "cell_type": "code",
   "execution_count": null,
   "metadata": {},
   "outputs": [],
   "source": [
    "showImg(blank_img)"
   ]
  },
  {
   "cell_type": "code",
   "execution_count": null,
   "metadata": {},
   "outputs": [],
   "source": []
  }
 ],
 "metadata": {
  "kernelspec": {
   "display_name": "Python 3",
   "language": "python",
   "name": "python3"
  },
  "language_info": {
   "codemirror_mode": {
    "name": "ipython",
    "version": 3
   },
   "file_extension": ".py",
   "mimetype": "text/x-python",
   "name": "python",
   "nbconvert_exporter": "python",
   "pygments_lexer": "ipython3",
   "version": "3.8.15"
  }
 },
 "nbformat": 4,
 "nbformat_minor": 2
}
