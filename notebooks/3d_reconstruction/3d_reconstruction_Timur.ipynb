{
 "cells": [
  {
   "cell_type": "code",
   "execution_count": null,
   "metadata": {},
   "outputs": [],
   "source": [
    "import os\n",
    "import cv2\n",
    "import json\n",
    "import numpy as np\n",
    "import matplotlib.pyplot as plt\n",
    "import ipywidgets as widgets\n",
    "from ipywidgets import interact"
   ]
  },
  {
   "cell_type": "code",
   "execution_count": null,
   "metadata": {},
   "outputs": [],
   "source": [
    "data_folder = \"data/\""
   ]
  },
  {
   "cell_type": "code",
   "execution_count": null,
   "metadata": {},
   "outputs": [],
   "source": [
    "path_to_calib_data = os.path.join(os.getcwd(), 'data/training/calibration/calibration_data_synthetic.json')"
   ]
  },
  {
   "cell_type": "code",
   "execution_count": null,
   "metadata": {},
   "outputs": [],
   "source": [
    "with open(path_to_calib_data, 'r') as F:\n",
    "    data = json.load(F)\n",
    "\n",
    "calib_data = {}\n",
    "for key, value in data.items():\n",
    "    calib_data[key] = np.array(value)\n",
    "\n",
    "for name, matrix in calib_data.items():\n",
    "    print(f\"Matrix {name}:\\n{matrix}\\n\")"
   ]
  },
  {
   "cell_type": "code",
   "execution_count": null,
   "metadata": {},
   "outputs": [],
   "source": [
    "left_image_filename = \"image_left.png\"\n",
    "right_image_filename = \"image_right.png\""
   ]
  },
  {
   "cell_type": "code",
   "execution_count": null,
   "metadata": {},
   "outputs": [],
   "source": [
    "img_left_color = cv2.imread(os.path.join(data_folder, left_image_filename))\n",
    "img_right_color = cv2.imread(os.path.join(data_folder, right_image_filename))"
   ]
  },
  {
   "cell_type": "code",
   "execution_count": null,
   "metadata": {},
   "outputs": [],
   "source": [
    "img_left_bw = cv2.blur(cv2.cvtColor(img_left_color, cv2.COLOR_RGB2GRAY),(5,5))\n",
    "img_right_bw = cv2.blur(cv2.cvtColor(img_right_color, cv2.COLOR_RGB2GRAY),(5,5))"
   ]
  },
  {
   "cell_type": "code",
   "execution_count": null,
   "metadata": {},
   "outputs": [],
   "source": [
    "def write_ply(fn, verts, colors):\n",
    "    ply_header = '''ply\n",
    "format ascii 1.0\n",
    "element vertex %(vert_num)d\n",
    "property float x\n",
    "property float y\n",
    "property float z\n",
    "property uchar red\n",
    "property uchar green\n",
    "property uchar blue\n",
    "end_header\n",
    "'''\n",
    "    out_colors = colors.copy()\n",
    "    verts = verts.reshape(-1, 3)\n",
    "    verts = np.hstack([verts, out_colors])\n",
    "    with open(fn, 'wb') as f:\n",
    "        f.write((ply_header % dict(vert_num=len(verts))).encode('utf-8'))\n",
    "        np.savetxt(f, verts, fmt='%f %f %f %d %d %d ')"
   ]
  },
  {
   "cell_type": "code",
   "execution_count": null,
   "metadata": {},
   "outputs": [],
   "source": [
    "plt.imshow(img_left_bw, cmap='gray')\n",
    "plt.show()"
   ]
  },
  {
   "cell_type": "code",
   "execution_count": null,
   "metadata": {},
   "outputs": [],
   "source": [
    "plt.imshow(img_right_bw, cmap='gray')\n",
    "plt.show()"
   ]
  },
  {
   "cell_type": "code",
   "execution_count": null,
   "metadata": {},
   "outputs": [],
   "source": [
    "def compute_disparity(numDisparities, blockSize):\n",
    "    stereo = cv2.StereoBM_create(numDisparities=numDisparities, blockSize=blockSize)\n",
    "    disparity = stereo.compute(img_left_bw, img_right_bw)\n",
    "    plt.imshow(disparity, cmap='gray')\n",
    "    plt.colorbar()\n",
    "    plt.show()"
   ]
  },
  {
   "cell_type": "code",
   "execution_count": null,
   "metadata": {},
   "outputs": [],
   "source": [
    "numDisparities_slider = widgets.IntSlider(min=16, max=16 * 100, step=16, value=16 * 50, description='numDisparities:')\n",
    "blockSize_slider = widgets.IntSlider(min=5, max=51, step=2, value=5, description='blockSize:')\n",
    "interact(compute_disparity, numDisparities=numDisparities_slider, blockSize=blockSize_slider)\n",
    "None"
   ]
  },
  {
   "cell_type": "code",
   "execution_count": null,
   "metadata": {},
   "outputs": [],
   "source": [
    "stereo = cv2.StereoBM_create(numDisparities=16 * 50, blockSize=5) #numDisparities=96, blockSize=11)\n",
    "disparity = stereo.compute(img_left_bw, img_right_bw)"
   ]
  },
  {
   "cell_type": "code",
   "execution_count": null,
   "metadata": {},
   "outputs": [],
   "source": [
    "img = disparity.copy()\n",
    "plt.imshow(img, 'CMRmap_r')\n",
    "plt.show()"
   ]
  },
  {
   "cell_type": "code",
   "execution_count": null,
   "metadata": {},
   "outputs": [],
   "source": [
    "# Calculate depth-to-disparity\n",
    "R1, R2, P1, P2, Q, validPixROI1, validPixROI2 = cv2.stereoRectify(\n",
    "    cameraMatrix1 = calib_data['CM'], distCoeffs1 = calib_data['dist'],\n",
    "    cameraMatrix2 = calib_data['CM'], distCoeffs2 = calib_data['dist'],\n",
    "    imageSize = img_left_color.shape[:2],\n",
    "    R = calib_data['R'],\n",
    "    T = calib_data['T'],\n",
    "    flags=0, # cv.CALIB_ZERO_DISPARITY,\n",
    "    alpha=-1\n",
    ")"
   ]
  },
  {
   "cell_type": "code",
   "execution_count": null,
   "metadata": {},
   "outputs": [],
   "source": [
    "cam1_map1, cam1_map2 = cv2.initUndistortRectifyMap(\n",
    "    calib_data['CM'],\n",
    "    calib_data['dist'],\n",
    "    R1, P1, \n",
    "    img_left_color.shape[:2],\n",
    "    cv2.CV_32FC1\n",
    ")\n",
    "cam2_map1, cam2_map2 = cv2.initUndistortRectifyMap(\n",
    "    calib_data['CM'],\n",
    "    calib_data['dist'], \n",
    "    R2, P2,\n",
    "    img_left_color.shape[:2],\n",
    "    cv2.CV_32FC1\n",
    ")"
   ]
  },
  {
   "cell_type": "code",
   "execution_count": null,
   "metadata": {},
   "outputs": [],
   "source": [
    "def draw_epipolar_lines(img1, img2, color=255, step=250):\n",
    "    img1_lines = img1.copy()\n",
    "    img2_lines = img2.copy()\n",
    "\n",
    "    height = img1.shape[0]\n",
    "\n",
    "    for y in range(0, height, step):\n",
    "        cv2.line(img1_lines, (0, y), (img1.shape[1], y), color, 7)\n",
    "        cv2.line(img2_lines, (0, y), (img2.shape[1], y), color, 7)\n",
    "\n",
    "    return img1_lines, img2_lines"
   ]
  },
  {
   "cell_type": "code",
   "execution_count": null,
   "metadata": {},
   "outputs": [],
   "source": [
    "rectified_cam1_img = cv2.remap(img_left_color, cam1_map1, cam1_map2, interpolation=cv2.INTER_LINEAR)\n",
    "rectified_cam2_img = cv2.remap(img_right_color, cam2_map1, cam2_map2, interpolation=cv2.INTER_LINEAR)\n",
    "\n",
    "epipolar_img_left, epipolar_img_right = draw_epipolar_lines(rectified_cam1_img, rectified_cam2_img)\n",
    "\n",
    "plt.figure(figsize=(12, 6))\n",
    "\n",
    "plt.subplot(1, 2, 1)\n",
    "plt.imshow(epipolar_img_left, cmap='gray')\n",
    "plt.title('Rectified Left Camera Image with Epipolar Lines')\n",
    "plt.axis('off')\n",
    "\n",
    "plt.subplot(1, 2, 2)\n",
    "plt.imshow(epipolar_img_right, cmap='gray')\n",
    "plt.title('Rectified Right Camera Image with Epipolar Lines')\n",
    "plt.axis('off')\n",
    "\n",
    "plt.show()"
   ]
  },
  {
   "cell_type": "code",
   "execution_count": null,
   "metadata": {},
   "outputs": [],
   "source": [
    "def show_rotation(R):\n",
    "    sy = np.sqrt(R[0, 0] ** 2 + R[1, 0] ** 2)\n",
    "    singular = sy < 1e-6\n",
    "    if not singular:\n",
    "        yaw = np.arctan2(R[2, 1], R[2, 2])\n",
    "        pitch = np.arctan2(-R[2, 0], sy)\n",
    "        roll = np.arctan2(R[1, 0], R[0, 0])\n",
    "    else:\n",
    "        yaw = np.arctan2(-R[1, 2], R[1, 1])\n",
    "        pitch = np.arctan2(-R[2, 0], sy)\n",
    "        roll = 0\n",
    "    euler_angles_calculated = np.degrees(np.array([yaw, pitch, roll]))\n",
    "    print(f\"Yaw: {euler_angles_calculated[0]:.2f} degrees\")\n",
    "    print(f\"Pitch: {euler_angles_calculated[1]:.2f} degrees\")\n",
    "    print(f\"Roll: {euler_angles_calculated[2]:.2f} degrees\")"
   ]
  },
  {
   "cell_type": "code",
   "execution_count": null,
   "metadata": {},
   "outputs": [],
   "source": [
    "show_rotation(R1)\n",
    "show_rotation(R2)"
   ]
  },
  {
   "cell_type": "code",
   "execution_count": null,
   "metadata": {},
   "outputs": [],
   "source": [
    "points = cv2.reprojectImageTo3D(img, Q)\n",
    "\n",
    "#reflect on x axis\n",
    "reflect_matrix = np.identity(3)\n",
    "reflect_matrix[0] *= -1\n",
    "points = np.matmul(points, reflect_matrix)\n",
    "\n",
    "#extract colors from image\n",
    "colors = cv2.cvtColor(img_left_color, cv2.COLOR_BGR2RGB)\n",
    "\n",
    "#filter by min disparity\n",
    "mask = img > img.min()\n",
    "out_points = points[mask]\n",
    "out_colors = colors[mask]\n",
    "\n",
    "#filter by dimension\n",
    "idx = np.fabs(out_points[:,0]) < 4.5\n",
    "out_points = out_points[idx]\n",
    "out_colors = out_colors.reshape(-1, 3)\n",
    "out_colors = out_colors[idx]"
   ]
  },
  {
   "cell_type": "code",
   "execution_count": null,
   "metadata": {},
   "outputs": [],
   "source": [
    "write_ply('out.ply', out_points, out_colors)\n",
    "print('%s saved' % 'out.ply')"
   ]
  },
  {
   "cell_type": "code",
   "execution_count": null,
   "metadata": {},
   "outputs": [],
   "source": [
    "reflected_pts = np.matmul(out_points, reflect_matrix)\n",
    "projected_img,_ = cv2.projectPoints(reflected_pts, np.identity(3), np.array([0., 0., 0.]), \\\n",
    "                          calib_data['CM'][:3, :3], np.array([0., 0., 0., 0.]))\n",
    "projected_img = projected_img.reshape(-1, 2)\n",
    "print(f\"Min X: {projected_img[:, 0].min()}, Max X: {projected_img[:, 0].max()}\")\n",
    "print(f\"Min Y: {projected_img[:, 1].min()}, Max Y: {projected_img[:, 1].max()}\")\n",
    "print(img_left_color.shape)"
   ]
  },
  {
   "cell_type": "code",
   "execution_count": null,
   "metadata": {},
   "outputs": [],
   "source": [
    "def project_and_draw(rotation_angle_x, rotation_angle_y, rotation_angle_z):\n",
    "    # Создание матрицы вращения по оси X\n",
    "    Rx = np.array([\n",
    "        [1, 0, 0],\n",
    "        [0, np.cos(rotation_angle_x), -np.sin(rotation_angle_x)],\n",
    "        [0, np.sin(rotation_angle_x), np.cos(rotation_angle_x)]\n",
    "    ])\n",
    "    \n",
    "    # Создание матрицы вращения по оси Y\n",
    "    Ry = np.array([\n",
    "        [np.cos(rotation_angle_y), 0, np.sin(rotation_angle_y)],\n",
    "        [0, 1, 0],\n",
    "        [-np.sin(rotation_angle_y), 0, np.cos(rotation_angle_y)]\n",
    "    ])\n",
    "    \n",
    "    Rz = np.array([\n",
    "        [np.cos(rotation_angle_z), -np.sin(rotation_angle_z), 0],\n",
    "        [np.sin(rotation_angle_z), np.cos(rotation_angle_z), 0],\n",
    "        [0, 0, 1]\n",
    "    ])\n",
    "    \n",
    "    # Общая матрица вращения\n",
    "    R = np.dot(np.dot(Rx, Ry), Rz)\n",
    "\n",
    "    # Применение матрицы вращения к точкам\n",
    "    reflected_pts = np.dot(out_points, reflect_matrix)\n",
    "    rotated_pts = np.dot(reflected_pts, R)\n",
    "    \n",
    "    # Выполнение проекции\n",
    "    projected_img, _ = cv2.projectPoints(rotated_pts, np.eye(3), np.zeros(3), \n",
    "                                         calib_data['CM'][:3, :3],\n",
    "                                         np.zeros(4))\n",
    "    projected_img = projected_img.reshape(-1, 2)\n",
    "    \n",
    "    blank_img = np.zeros(img_left_color.shape, 'uint8')\n",
    "    img_colors = img_right_color[mask][idx].reshape(-1, 3)\n",
    "    \n",
    "    for i, pt in enumerate(projected_img):\n",
    "        pt_x = int(pt[0])\n",
    "        pt_y = int(pt[1])\n",
    "        if pt_x > 0 and pt_y > 0:\n",
    "            col = (int(img_colors[i, 2]), int(img_colors[i, 1]), int(img_colors[i, 0]))\n",
    "            cv2.circle(blank_img, (pt_x, pt_y), 1, col)\n",
    "    \n",
    "    plt.figure(figsize=(10, 10))\n",
    "    plt.imshow(blank_img)\n",
    "    plt.axis('off')\n",
    "    plt.show()\n"
   ]
  },
  {
   "cell_type": "code",
   "execution_count": null,
   "metadata": {},
   "outputs": [],
   "source": [
    "from ipywidgets import interact, FloatSlider, FloatText, HBox, VBox\n",
    "# Интерфейс для изменения параметров проекции\n",
    "rotation_angle_x_slider = FloatSlider(value=0.0, min=-np.pi, max=np.pi, step=0.01, description='Rotate X:')\n",
    "rotation_angle_x_text = FloatText(value=0.0, description='Rotate X:')\n",
    "rotation_angle_y_slider = FloatSlider(value=0.0, min=-np.pi, max=np.pi, step=0.01, description='Rotate Y:')\n",
    "rotation_angle_y_text = FloatText(value=0.0, description='Rotate Y:')\n",
    "rotation_angle_z_slider = FloatSlider(value=0.0, min=-np.pi, max=np.pi, step=0.01, description='Rotate Z:')\n",
    "rotation_angle_z_text = FloatText(value=0.0, description='Rotate Z:')\n",
    "\n",
    "def sync_widgets(slider, text):\n",
    "       def on_value_change(change):\n",
    "           text.value = change['new']\n",
    "       slider.observe(on_value_change, names='value')\n",
    "\n",
    "       def on_text_change(change):\n",
    "           slider.value = change['new']\n",
    "       text.observe(on_text_change, names='value')\n",
    "\n",
    "sync_widgets(rotation_angle_x_slider, rotation_angle_x_text)\n",
    "sync_widgets(rotation_angle_y_slider, rotation_angle_y_text)\n",
    "sync_widgets(rotation_angle_z_slider, rotation_angle_z_text)\n",
    "\n",
    "ui = VBox([\n",
    "    HBox([rotation_angle_x_slider, rotation_angle_x_text]),\n",
    "    HBox([rotation_angle_y_slider, rotation_angle_y_text]),\n",
    "    HBox([rotation_angle_z_slider, rotation_angle_z_text]),\n",
    "])\n",
    "\n",
    "# Вызов функции с виджетами\n",
    "interact(project_and_draw,\n",
    "         rotation_angle_x=rotation_angle_x_slider, \n",
    "         rotation_angle_y=rotation_angle_y_slider,\n",
    "         rotation_angle_z=rotation_angle_z_slider)"
   ]
  },
  {
   "cell_type": "code",
   "execution_count": null,
   "metadata": {},
   "outputs": [],
   "source": [
    "plt.imshow(img, 'CMRmap_r')\n",
    "plt.show()"
   ]
  },
  {
   "cell_type": "code",
   "execution_count": null,
   "metadata": {},
   "outputs": [],
   "source": [
    "%matplotlib widget\n",
    "\n",
    "X = []\n",
    "Y = []\n",
    "\n",
    "def get_points_on_image(img, n_points=2):\n",
    "    fig, ax = plt.subplots()\n",
    "    ax.imshow(img)\n",
    "    points = []\n",
    "\n",
    "    out = widgets.Output()\n",
    "    \n",
    "    def onclick(event):\n",
    "        if event.inaxes is not None:  # Проверка, что клик был внутри области изображения\n",
    "            if len(points) < n_points:\n",
    "                x, y = int(event.xdata), int(event.ydata)\n",
    "                points.append((x, y))\n",
    "                ax.plot(x, y, 'ro')  # Рисуем красные точки\n",
    "                fig.canvas.draw()\n",
    "                with out:\n",
    "                    X.append(x)\n",
    "                    Y.append(y)\n",
    "                    print(f\"Точка добавлена: ({x}, {y})\")\n",
    "\n",
    "            if len(points) == n_points:\n",
    "                fig.canvas.mpl_disconnect(cid)\n",
    "                plt.close()\n",
    "\n",
    "    cid = fig.canvas.mpl_connect('button_press_event', onclick)\n",
    "    display(out)\n",
    "    plt.show()\n",
    "\n",
    "\n",
    "# Захват точек\n",
    "points = get_points_on_image(img, n_points=3)\n",
    "print(\"Координаты точек:\", points)"
   ]
  },
  {
   "cell_type": "code",
   "execution_count": null,
   "metadata": {},
   "outputs": [],
   "source": [
    "print(X[0], Y[0])\n",
    "print(X[1], Y[1])\n",
    "print(X[2], Y[2])"
   ]
  },
  {
   "cell_type": "code",
   "execution_count": null,
   "metadata": {},
   "outputs": [],
   "source": [
    "def reproject_to_3d(Q, x, y, disparity):\n",
    "    point_2d = np.array([x, y, disparity[x][y], 1.0])\n",
    "    point_3d = np.dot(Q, point_2d)\n",
    "    point_3d = point_3d / point_3d[3]\n",
    "    return point_3d[:3]\n",
    "\n",
    "def euclidean_distance(point1, point2):\n",
    "    return np.linalg.norm(point1 - point2)\n",
    "\n",
    "x1, y1 = X[0], Y[0]\n",
    "x2, y2 = X[1], Y[1]\n",
    "x3, y3 = X[2], Y[2]\n",
    "\n",
    "# Восстановление 3D точки\n",
    "restored_3d_point_1 = reproject_to_3d(Q, x1, y1, disparity)\n",
    "restored_3d_point_2 = reproject_to_3d(Q, x2, y2, disparity)\n",
    "restored_3d_point_3 = reproject_to_3d(Q, x3, y3, disparity)\n",
    "print(f\"3D координаты точки 1: {restored_3d_point_1}\")\n",
    "print(f\"3D координаты точки 2: {restored_3d_point_2}\")\n",
    "print(f\"3D координаты точки 3: {restored_3d_point_3}\")\n",
    "print(f\"Расстояние между точками 1 и 2: {euclidean_distance(restored_3d_point_1, restored_3d_point_2)}\")\n",
    "print(f\"Расстояние между точками 2 и 3: {euclidean_distance(restored_3d_point_2, restored_3d_point_3)}\")\n",
    "print(f\"Расстояние между точками 3 и 1: {euclidean_distance(restored_3d_point_3, restored_3d_point_1)}\")"
   ]
  },
  {
   "cell_type": "code",
   "execution_count": null,
   "metadata": {},
   "outputs": [],
   "source": []
  }
 ],
 "metadata": {
  "kernelspec": {
   "display_name": "Python 3",
   "language": "python",
   "name": "python3"
  },
  "language_info": {
   "codemirror_mode": {
    "name": "ipython",
    "version": 3
   },
   "file_extension": ".py",
   "mimetype": "text/x-python",
   "name": "python",
   "nbconvert_exporter": "python",
   "pygments_lexer": "ipython3",
   "version": "3.8.15"
  }
 },
 "nbformat": 4,
 "nbformat_minor": 2
}
