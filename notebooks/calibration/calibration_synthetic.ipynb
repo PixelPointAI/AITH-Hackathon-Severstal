{
 "cells": [
  {
   "cell_type": "markdown",
   "metadata": {},
   "source": [
    "# Калибровка"
   ]
  },
  {
   "cell_type": "markdown",
   "metadata": {},
   "source": [
    "## Импорт необходимых модулей/функций"
   ]
  },
  {
   "cell_type": "code",
   "execution_count": null,
   "metadata": {},
   "outputs": [],
   "source": [
    "import cv2 as cv\n",
    "import numpy as np\n",
    "import matplotlib.pyplot as plt\n",
    "from pathlib import Path\n",
    "import random\n",
    "from tqdm.notebook import trange\n",
    "\n",
    "from pixelpoint.calibration import load_images, save_calibration_params, calibrate_camera_chessboard, stereo_calibrate_chessboard, calculate_CM, calculate_RT"
   ]
  },
  {
   "cell_type": "markdown",
   "metadata": {},
   "source": [
    "## Константы"
   ]
  },
  {
   "cell_type": "markdown",
   "metadata": {},
   "source": [
    "_cam1_ - левая камера  \n",
    "_cam2_ - правая камера"
   ]
  },
  {
   "cell_type": "code",
   "execution_count": null,
   "metadata": {},
   "outputs": [],
   "source": [
    "pattern_params = {\n",
    "    'square_size': (0.01, 0.01),  # size of chess square (in m)\n",
    "    'chessboard_size': (7, 7)\n",
    "}\n",
    "camera_params = {\n",
    "    'focal_length_m': 80e-3,\n",
    "    'img_resolution': (5120, 4096),\n",
    "    'pixel_sz_x': 4.5e-6,  # in m\n",
    "    'pixel_sz_y': 4.5e-6  # in m\n",
    "}\n",
    "stereo_params = {\n",
    "    'baseline': 412e-3,  # in m\n",
    "    'center_dist_to_obj': 639e-3,  # in m\n",
    "    'cam_dist_to_obj': 650e-3,  # in m\n",
    "}"
   ]
  },
  {
   "cell_type": "markdown",
   "metadata": {},
   "source": [
    "## Данные"
   ]
  },
  {
   "cell_type": "markdown",
   "metadata": {},
   "source": [
    "Данные сгенерированы с помощью скрипта `render_chessboard.py`.  "
   ]
  },
  {
   "cell_type": "code",
   "execution_count": null,
   "metadata": {},
   "outputs": [],
   "source": [
    "imgs_folder = Path('calibration_images_chessboard')\n",
    "cam1_imgs, cam2_imgs = load_images(imgs_folder)"
   ]
  },
  {
   "cell_type": "code",
   "execution_count": null,
   "metadata": {},
   "outputs": [],
   "source": [
    "random_keys = random.sample(list(cam1_imgs.keys()), 3)\n",
    "\n",
    "fig, axes = plt.subplots(3, 2, figsize=(10, 10))\n",
    "\n",
    "for i, key in enumerate(random_keys):\n",
    "    left_img = cam1_imgs[key]\n",
    "    \n",
    "    right_img_key = key.replace('cam2', 'cam1')\n",
    "    right_img = cam2_imgs.get(right_img_key, None)\n",
    "    \n",
    "    axes[i, 0].imshow(left_img, cmap='gray')\n",
    "    axes[i, 0].set_title(f\"Left: {key}\")\n",
    "    axes[i, 0].axis('off')\n",
    "    \n",
    "    if right_img is not None:\n",
    "        axes[i, 1].imshow(right_img, cmap='gray')\n",
    "        axes[i, 1].set_title(f\"Right: {right_img_key}\")\n",
    "        axes[i, 1].axis('off')\n",
    "    else:\n",
    "        axes[i, 1].axis('off')\n",
    "\n",
    "plt.tight_layout()\n",
    "plt.show()"
   ]
  },
  {
   "cell_type": "markdown",
   "metadata": {},
   "source": [
    "## Поиск внутренних параметров камер"
   ]
  },
  {
   "cell_type": "markdown",
   "metadata": {},
   "source": [
    "### Вычисление camera matrix"
   ]
  },
  {
   "cell_type": "markdown",
   "metadata": {},
   "source": [
    "Camera matrix можно вычислить исходя из следующих параметров:\n",
    "1. фокусное расстояние: 80mm\n",
    "2. размер пикселя: 4.5 µm × 4.5 µm\n",
    "3. разрешение изображения: 5120 × 4096 "
   ]
  },
  {
   "cell_type": "code",
   "execution_count": null,
   "metadata": {},
   "outputs": [],
   "source": [
    "CM = calculate_CM(**camera_params)\n",
    "print(f'Camera matrix:\\n{CM}')"
   ]
  },
  {
   "cell_type": "markdown",
   "metadata": {},
   "source": [
    "### Поиск всех внутренних параметров с помощью калибровки шахматной доской"
   ]
  },
  {
   "cell_type": "code",
   "execution_count": null,
   "metadata": {},
   "outputs": [],
   "source": [
    "CM, dist = calibrate_camera_chessboard({**cam1_imgs, **cam2_imgs}, camera_params['img_resolution'], \n",
    "                              pattern_params['square_size'][0], pattern_params['chessboard_size'])\n",
    "print(f'Camera matrix:\\n{CM}')\n",
    "print(f'Distortion vector:\\n{dist}')"
   ]
  },
  {
   "cell_type": "markdown",
   "metadata": {},
   "source": [
    "## Стерео-калибровка"
   ]
  },
  {
   "cell_type": "markdown",
   "metadata": {},
   "source": [
    "### Manual estimation of extrinsic parameters for a given optical system configuration"
   ]
  },
  {
   "cell_type": "code",
   "execution_count": null,
   "metadata": {},
   "outputs": [],
   "source": [
    "R, T = calculate_RT(stereo_params['baseline'], stereo_params['cam_dist_to_obj'])\n",
    "\n",
    "print(f'Rotation matrix:\\n{R}')\n",
    "print(f'Translation vector:\\n{T}')"
   ]
  },
  {
   "cell_type": "markdown",
   "metadata": {},
   "source": [
    "### Stereo-calibration using the calibration images with chessboard"
   ]
  },
  {
   "cell_type": "markdown",
   "metadata": {},
   "source": [
    "R: The relative rotation matrix between the first and second cameras. This matrix describes how the second camera is rotated relative to the first camera.\n",
    "\n",
    "T: The translation vector between the first and second cameras. This vector describes how far and in which direction the second camera is from the first camera.\n",
    "\n",
    "E: The essential matrix. This matrix encodes the rotation and translation between the two cameras, and it can be used to compute the epipolar geometry (constraints for stereo matching).\n",
    "\n",
    "F: The fundamental matrix. This is another way of representing the geometric relationship between the two cameras. It defines the epipolar lines in stereo matching."
   ]
  },
  {
   "cell_type": "code",
   "execution_count": null,
   "metadata": {},
   "outputs": [],
   "source": [
    "R, T, E, F = stereo_calibrate_chessboard(cam1_imgs, cam2_imgs, camera_params['img_resolution'], \n",
    "                                pattern_params['square_size'][0], pattern_params['chessboard_size'], \n",
    "                                CM, dist)\n",
    "\n",
    "print(f'Rotation matrix:\\n{R}')\n",
    "print(f'Translation vector:\\n{T}')"
   ]
  },
  {
   "cell_type": "markdown",
   "metadata": {},
   "source": [
    "Проверим baseline и углы поворота для полученных матриц"
   ]
  },
  {
   "cell_type": "code",
   "execution_count": null,
   "metadata": {},
   "outputs": [],
   "source": [
    "def rotation_matrix_to_euler_angles(R):\n",
    "    sy = np.sqrt(R[0, 0] ** 2 + R[1, 0] ** 2)\n",
    "    \n",
    "    singular = sy < 1e-6\n",
    "    \n",
    "    if not singular:\n",
    "        yaw = np.arctan2(R[2, 1], R[2, 2])\n",
    "        pitch = np.arctan2(-R[2, 0], sy)\n",
    "        roll = np.arctan2(R[1, 0], R[0, 0])\n",
    "    else:\n",
    "        yaw = np.arctan2(-R[1, 2], R[1, 1])\n",
    "        pitch = np.arctan2(-R[2, 0], sy)\n",
    "        roll = 0\n",
    "\n",
    "    return np.degrees(np.array([yaw, pitch, roll]))\n",
    "\n",
    "def show_baseline_and_rotation(T_calculated, R_calculated, real_baseline, R_real=None):\n",
    "    calculated_baseline = np.linalg.norm(T)\n",
    "    \n",
    "    print(f\"Calculated baseline: {calculated_baseline:.2f} m\")\n",
    "    print(f\"Real baseline: {real_baseline:.2f} m\")\n",
    "    \n",
    "    baseline_difference = np.abs(calculated_baseline - real_baseline)\n",
    "    print(f\"Baseline difference: {baseline_difference:.2f} m\")\n",
    "    \n",
    "    euler_angles_calculated = rotation_matrix_to_euler_angles(R_calculated)\n",
    "    print(\"\\nCalculated Euler angles (Yaw, Pitch, Roll):\")\n",
    "    print(f\"Yaw: {euler_angles_calculated[0]:.2f} degrees\")\n",
    "    print(f\"Pitch: {euler_angles_calculated[1]:.2f} degrees\")\n",
    "    print(f\"Roll: {euler_angles_calculated[2]:.2f} degrees\")"
   ]
  },
  {
   "cell_type": "code",
   "execution_count": null,
   "metadata": {},
   "outputs": [],
   "source": [
    "show_baseline_and_rotation(T, R, stereo_params['baseline'])"
   ]
  },
  {
   "cell_type": "markdown",
   "metadata": {},
   "source": [
    "## Export the camera's intrinsic and extrinsic parameters"
   ]
  },
  {
   "cell_type": "code",
   "execution_count": null,
   "metadata": {},
   "outputs": [],
   "source": [
    "save_calibration_params(CM, dist, R, T, E, F, 'calibration_params/calibration_synthetic.json')"
   ]
  }
 ],
 "metadata": {
  "kernelspec": {
   "display_name": "hack-sev",
   "language": "python",
   "name": "python3"
  },
  "language_info": {
   "codemirror_mode": {
    "name": "ipython",
    "version": 3
   },
   "file_extension": ".py",
   "mimetype": "text/x-python",
   "name": "python",
   "nbconvert_exporter": "python",
   "pygments_lexer": "ipython3",
   "version": "3.10.14"
  }
 },
 "nbformat": 4,
 "nbformat_minor": 2
}
